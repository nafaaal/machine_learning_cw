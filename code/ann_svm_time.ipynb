{
 "cells": [
  {
   "cell_type": "code",
   "execution_count": 1,
   "id": "fb965148",
   "metadata": {},
   "outputs": [
    {
     "name": "stderr",
     "output_type": "stream",
     "text": [
      "2022-12-08 09:26:02.184919: I tensorflow/core/platform/cpu_feature_guard.cc:193] This TensorFlow binary is optimized with oneAPI Deep Neural Network Library (oneDNN) to use the following CPU instructions in performance-critical operations:  AVX2 FMA\n",
      "To enable them in other operations, rebuild TensorFlow with the appropriate compiler flags.\n"
     ]
    }
   ],
   "source": [
    "import time\n",
    "from sklearn.preprocessing import StandardScaler\n",
    "from keras.datasets import fashion_mnist\n",
    "from sklearn.neural_network import MLPClassifier\n",
    "from sklearn.svm import SVC\n",
    "import pandas as pd\n",
    "import numpy as np\n",
    "import matplotlib.pyplot as plt\n",
    "import seaborn as sns"
   ]
  },
  {
   "cell_type": "code",
   "execution_count": 2,
   "id": "90b34045",
   "metadata": {},
   "outputs": [],
   "source": [
    "(x_train, y_train), (x_test, y_test) = fashion_mnist.load_data()\n",
    "scaler = StandardScaler()\n",
    "X_train_scaled = scaler.fit_transform(x_train.reshape(x_train.shape[0],-1))\n",
    "X_test_scaled = scaler.fit_transform(x_test.reshape(x_test.shape[0],-1))\n"
   ]
  },
  {
   "cell_type": "code",
   "execution_count": 3,
   "id": "e8421a32",
   "metadata": {},
   "outputs": [
    {
     "name": "stdout",
     "output_type": "stream",
     "text": [
      "Time taken to train SVC = 232.84315586090088\n"
     ]
    }
   ],
   "source": [
    "start = time.time()\n",
    "\n",
    "#most tuned svm\n",
    "svm = SVC(kernel=\"rbf\", C=12.1, gamma=0.000372759, random_state=1)\n",
    "svm.fit(X_train_scaled, y_train)\n",
    "\n",
    "end = time.time()\n",
    "print(\"Time taken to train SVC = \" + str(end - start))"
   ]
  },
  {
   "cell_type": "code",
   "execution_count": 4,
   "id": "56b8769b",
   "metadata": {},
   "outputs": [
    {
     "name": "stdout",
     "output_type": "stream",
     "text": [
      "Time taken to train ANN = 9.027170181274414\n"
     ]
    }
   ],
   "source": [
    "start = time.time()\n",
    "\n",
    "#most tuned ann\n",
    "tuned_ann = MLPClassifier(hidden_layer_sizes=(128),\n",
    "                    activation='relu',\n",
    "                    alpha=0.1072267222,\n",
    "                    learning_rate_init=0.06579332,\n",
    "                    random_state=1)\n",
    "tuned_ann.fit(X_train_scaled, y_train.flatten())\n",
    "\n",
    "end = time.time()\n",
    "print(\"Time taken to train ANN = \" + str(end - start))"
   ]
  },
  {
   "cell_type": "code",
   "execution_count": 7,
   "id": "9df51930",
   "metadata": {},
   "outputs": [],
   "source": [
    "metrics = pd.DataFrame(index=[\"SVM\",\"ANN\"])\n",
    "metrics.at[\"SVM\", \"Time\"] = 232.84315586090088\n",
    "metrics.at[\"ANN\", \"Time\"] = 9.027170181274414"
   ]
  },
  {
   "cell_type": "code",
   "execution_count": 10,
   "id": "cfb38e0f",
   "metadata": {},
   "outputs": [
    {
     "data": {
      "text/plain": [
       "<AxesSubplot: >"
      ]
     },
     "execution_count": 10,
     "metadata": {},
     "output_type": "execute_result"
    },
    {
     "data": {
      "image/png": "[encoded data removed]",
      "text/plain": [
       "<Figure size 640x480 with 1 Axes>"
      ]
     },
     "metadata": {},
     "output_type": "display_data"
    }
   ],
   "source": [
    "metrics.plot.bar(rot=0)"
   ]
  },
  {
   "cell_type": "code",
   "execution_count": 13,
   "id": "55ae2c9c",
   "metadata": {},
   "outputs": [
    {
     "name": "stdout",
     "output_type": "stream",
     "text": [
      "Training accuracy of SVM:  0.9386\n",
      "Testing accuracy of SVM:  0.887\n",
      "Training accuracy of ANN:  0.7523\n",
      "Testing accuracy of ANN:  0.7431\n"
     ]
    }
   ],
   "source": [
    "print('Training accuracy of SVM: ', round(svm.score(X_train_scaled, y_train.flatten()),4))\n",
    "print('Testing accuracy of SVM: ', round(svm.score(X_test_scaled, y_test.flatten()),4))\n",
    "\n",
    "print('Training accuracy of ANN: ', round(tuned_ann.score(X_train_scaled, y_train.flatten()),4))\n",
    "print('Testing accuracy of ANN: ', round(tuned_ann.score(X_test_scaled, y_test.flatten()),4))\n"
   ]
  },
  {
   "cell_type": "code",
   "execution_count": null,
   "id": "cd48f542",
   "metadata": {},
   "outputs": [],
   "source": []
  }
 ],
 "metadata": {
  "kernelspec": {
   "display_name": "Python 3 (ipykernel)",
   "language": "python",
   "name": "python3"
  },
  "language_info": {
   "codemirror_mode": {
    "name": "ipython",
    "version": 3
   },
   "file_extension": ".py",
   "mimetype": "text/x-python",
   "name": "python",
   "nbconvert_exporter": "python",
   "pygments_lexer": "ipython3",
   "version": "3.10.8"
  }
 },
 "nbformat": 4,
 "nbformat_minor": 5
}
