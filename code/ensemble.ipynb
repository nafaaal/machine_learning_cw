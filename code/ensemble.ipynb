{
 "cells": [
  {
   "cell_type": "code",
   "execution_count": 1,
   "id": "45af7eaa",
   "metadata": {},
   "outputs": [],
   "source": [
    "from sklearn.metrics import mean_absolute_error, mean_squared_error, r2_score\n",
    "from sklearn.ensemble import RandomForestRegressor\n",
    "from sklearn.datasets import fetch_california_housing\n",
    "from sklearn.model_selection import train_test_split\n",
    "from sklearn.preprocessing import StandardScaler\n",
    "import pymc3 as pm\n",
    "import pandas as pd\n",
    "import seaborn as sns\n",
    "import numpy as np\n",
    "import matplotlib.pyplot as plt"
   ]
  },
  {
   "cell_type": "code",
   "execution_count": 2,
   "id": "c408b00d",
   "metadata": {},
   "outputs": [],
   "source": [
    "X, y = fetch_california_housing(return_X_y=True)\n",
    "scaler = StandardScaler().fit(X)\n",
    "X_scaled = scaler.transform(X)\n",
    "X_train, X_test, y_train, y_test = train_test_split(X_scaled, y, test_size=0.2, random_state=42)\n",
    "train_data = pd.DataFrame(X_train, columns=fetch_california_housing().feature_names)\n",
    "train_data.insert(0, 'MedHouseValue', y_train)"
   ]
  },
  {
   "cell_type": "code",
   "execution_count": 3,
   "id": "6203af96",
   "metadata": {},
   "outputs": [
    {
     "data": {
      "text/html": [
       "<style>#sk-container-id-1 {color: black;background-color: white;}#sk-container-id-1 pre{padding: 0;}#sk-container-id-1 div.sk-toggleable {background-color: white;}#sk-container-id-1 label.sk-toggleable__label {cursor: pointer;display: block;width: 100%;margin-bottom: 0;padding: 0.3em;box-sizing: border-box;text-align: center;}#sk-container-id-1 label.sk-toggleable__label-arrow:before {content: \"▸\";float: left;margin-right: 0.25em;color: #696969;}#sk-container-id-1 label.sk-toggleable__label-arrow:hover:before {color: black;}#sk-container-id-1 div.sk-estimator:hover label.sk-toggleable__label-arrow:before {color: black;}#sk-container-id-1 div.sk-toggleable__content {max-height: 0;max-width: 0;overflow: hidden;text-align: left;background-color: #f0f8ff;}#sk-container-id-1 div.sk-toggleable__content pre {margin: 0.2em;color: black;border-radius: 0.25em;background-color: #f0f8ff;}#sk-container-id-1 input.sk-toggleable__control:checked~div.sk-toggleable__content {max-height: 200px;max-width: 100%;overflow: auto;}#sk-container-id-1 input.sk-toggleable__control:checked~label.sk-toggleable__label-arrow:before {content: \"▾\";}#sk-container-id-1 div.sk-estimator input.sk-toggleable__control:checked~label.sk-toggleable__label {background-color: #d4ebff;}#sk-container-id-1 div.sk-label input.sk-toggleable__control:checked~label.sk-toggleable__label {background-color: #d4ebff;}#sk-container-id-1 input.sk-hidden--visually {border: 0;clip: rect(1px 1px 1px 1px);clip: rect(1px, 1px, 1px, 1px);height: 1px;margin: -1px;overflow: hidden;padding: 0;position: absolute;width: 1px;}#sk-container-id-1 div.sk-estimator {font-family: monospace;background-color: #f0f8ff;border: 1px dotted black;border-radius: 0.25em;box-sizing: border-box;margin-bottom: 0.5em;}#sk-container-id-1 div.sk-estimator:hover {background-color: #d4ebff;}#sk-container-id-1 div.sk-parallel-item::after {content: \"\";width: 100%;border-bottom: 1px solid gray;flex-grow: 1;}#sk-container-id-1 div.sk-label:hover label.sk-toggleable__label {background-color: #d4ebff;}#sk-container-id-1 div.sk-serial::before {content: \"\";position: absolute;border-left: 1px solid gray;box-sizing: border-box;top: 0;bottom: 0;left: 50%;z-index: 0;}#sk-container-id-1 div.sk-serial {display: flex;flex-direction: column;align-items: center;background-color: white;padding-right: 0.2em;padding-left: 0.2em;position: relative;}#sk-container-id-1 div.sk-item {position: relative;z-index: 1;}#sk-container-id-1 div.sk-parallel {display: flex;align-items: stretch;justify-content: center;background-color: white;position: relative;}#sk-container-id-1 div.sk-item::before, #sk-container-id-1 div.sk-parallel-item::before {content: \"\";position: absolute;border-left: 1px solid gray;box-sizing: border-box;top: 0;bottom: 0;left: 50%;z-index: -1;}#sk-container-id-1 div.sk-parallel-item {display: flex;flex-direction: column;z-index: 1;position: relative;background-color: white;}#sk-container-id-1 div.sk-parallel-item:first-child::after {align-self: flex-end;width: 50%;}#sk-container-id-1 div.sk-parallel-item:last-child::after {align-self: flex-start;width: 50%;}#sk-container-id-1 div.sk-parallel-item:only-child::after {width: 0;}#sk-container-id-1 div.sk-dashed-wrapped {border: 1px dashed gray;margin: 0 0.4em 0.5em 0.4em;box-sizing: border-box;padding-bottom: 0.4em;background-color: white;}#sk-container-id-1 div.sk-label label {font-family: monospace;font-weight: bold;display: inline-block;line-height: 1.2em;}#sk-container-id-1 div.sk-label-container {text-align: center;}#sk-container-id-1 div.sk-container {/* jupyter's `normalize.less` sets `[hidden] { display: none; }` but bootstrap.min.css set `[hidden] { display: none !important; }` so we also need the `!important` here to be able to override the default hidden behavior on the sphinx rendered scikit-learn.org. See: https://github.com/scikit-learn/scikit-learn/issues/21755 */display: inline-block !important;position: relative;}#sk-container-id-1 div.sk-text-repr-fallback {display: none;}</style><div id=\"sk-container-id-1\" class=\"sk-top-container\"><div class=\"sk-text-repr-fallback\"><pre>RandomForestRegressor(random_state=0)</pre><b>In a Jupyter environment, please rerun this cell to show the HTML representation or trust the notebook. <br />On GitHub, the HTML representation is unable to render, please try loading this page with nbviewer.org.</b></div><div class=\"sk-container\" hidden><div class=\"sk-item\"><div class=\"sk-estimator sk-toggleable\"><input class=\"sk-toggleable__control sk-hidden--visually\" id=\"sk-estimator-id-1\" type=\"checkbox\" checked><label for=\"sk-estimator-id-1\" class=\"sk-toggleable__label sk-toggleable__label-arrow\">RandomForestRegressor</label><div class=\"sk-toggleable__content\"><pre>RandomForestRegressor(random_state=0)</pre></div></div></div></div></div>"
      ],
      "text/plain": [
       "RandomForestRegressor(random_state=0)"
      ]
     },
     "execution_count": 3,
     "metadata": {},
     "output_type": "execute_result"
    }
   ],
   "source": [
    "rf_100 = RandomForestRegressor(n_estimators = 100, random_state = 0)\n",
    "rf_100.fit(X_train, y_train)"
   ]
  },
  {
   "cell_type": "code",
   "execution_count": 4,
   "id": "3b12c2b4",
   "metadata": {},
   "outputs": [],
   "source": [
    "metrics = pd.DataFrame(index=[\"MAE\",\"MSE\",\"RMSE\",\"R\"])\n",
    "predictions = {\"y_test\": y_test} \n",
    "pred_df = pd.DataFrame(data=predictions)\n",
    "\n",
    "# put new predictions into dataframe\n",
    "pred_df[\"rf_100\"] = rf_100.predict(X_test)\n",
    "\n",
    "# put new metrics in dataframe\n",
    "m_name = \"rf_100\"\n",
    "\n",
    "metrics.at[\"MAE\", m_name] = mean_absolute_error(pred_df.y_test, pred_df.rf_100)\n",
    "metrics.at[\"MSE\", m_name] = mean_squared_error(pred_df.y_test, pred_df.rf_100)\n",
    "metrics.at[\"RMSE\", m_name] = np.sqrt(mean_squared_error(pred_df.y_test, pred_df.rf_100))\n",
    "metrics.at[\"R\", m_name] = r2_score(pred_df.y_test, pred_df.rf_100)"
   ]
  },
  {
   "cell_type": "code",
   "execution_count": 5,
   "id": "27814bc3",
   "metadata": {},
   "outputs": [],
   "source": [
    "rf_250 = RandomForestRegressor(n_estimators = 250, random_state = 0)\n",
    "rf_250.fit(X_train, y_train)\n",
    "\n",
    "# put new predictions into dataframe\n",
    "pred_df[\"rf_250\"] = rf_250.predict(X_test)\n",
    "\n",
    "# put new metrics in dataframe\n",
    "m_name = \"rf_250\"\n",
    "\n",
    "metrics.at[\"MAE\", m_name] = mean_absolute_error(pred_df.y_test, pred_df.rf_250)\n",
    "metrics.at[\"MSE\", m_name] = mean_squared_error(pred_df.y_test, pred_df.rf_250)\n",
    "metrics.at[\"RMSE\", m_name] = np.sqrt(mean_squared_error(pred_df.y_test, pred_df.rf_250))\n",
    "metrics.at[\"R\", m_name] = r2_score(pred_df.y_test, pred_df.rf_250)"
   ]
  },
  {
   "cell_type": "code",
   "execution_count": 6,
   "id": "cdad616f",
   "metadata": {},
   "outputs": [],
   "source": [
    "rf_500 = RandomForestRegressor(n_estimators = 500, random_state = 0)\n",
    "rf_500.fit(X_train, y_train)\n",
    "\n",
    "# put new predictions into dataframe\n",
    "pred_df[\"rf_500\"] = rf_500.predict(X_test)\n",
    "\n",
    "# put new metrics in dataframe\n",
    "m_name = \"rf_500\"\n",
    "\n",
    "metrics.at[\"MAE\", m_name] = mean_absolute_error(pred_df.y_test, pred_df.rf_500)\n",
    "metrics.at[\"MSE\", m_name] = mean_squared_error(pred_df.y_test, pred_df.rf_500)\n",
    "metrics.at[\"RMSE\", m_name] = np.sqrt(mean_squared_error(pred_df.y_test, pred_df.rf_500))\n",
    "metrics.at[\"R\", m_name] = r2_score(pred_df.y_test, pred_df.rf_500)"
   ]
  },
  {
   "cell_type": "code",
   "execution_count": 7,
   "id": "011114ba",
   "metadata": {},
   "outputs": [],
   "source": [
    "rf_1000 = RandomForestRegressor(n_estimators = 1000, random_state = 0)\n",
    "rf_1000.fit(X_train, y_train)\n",
    "\n",
    "# put new predictions into dataframe\n",
    "pred_df[\"rf_1000\"] = rf_1000.predict(X_test)\n",
    "\n",
    "# put new metrics in dataframe\n",
    "m_name = \"rf_1000\"\n",
    "\n",
    "metrics.at[\"MAE\", m_name] = mean_absolute_error(pred_df.y_test, pred_df.rf_1000)\n",
    "metrics.at[\"MSE\", m_name] = mean_squared_error(pred_df.y_test, pred_df.rf_1000)\n",
    "metrics.at[\"RMSE\", m_name] = np.sqrt(mean_squared_error(pred_df.y_test, pred_df.rf_1000))\n",
    "metrics.at[\"R\", m_name] = r2_score(pred_df.y_test, pred_df.rf_1000)"
   ]
  },
  {
   "cell_type": "code",
   "execution_count": 8,
   "id": "7c5ded00",
   "metadata": {},
   "outputs": [
    {
     "data": {
      "text/html": [
       "<div>\n",
       "<style scoped>\n",
       "    .dataframe tbody tr th:only-of-type {\n",
       "        vertical-align: middle;\n",
       "    }\n",
       "\n",
       "    .dataframe tbody tr th {\n",
       "        vertical-align: top;\n",
       "    }\n",
       "\n",
       "    .dataframe thead th {\n",
       "        text-align: right;\n",
       "    }\n",
       "</style>\n",
       "<table border=\"1\" class=\"dataframe\">\n",
       "  <thead>\n",
       "    <tr style=\"text-align: right;\">\n",
       "      <th></th>\n",
       "      <th>rf_100</th>\n",
       "      <th>rf_250</th>\n",
       "      <th>rf_500</th>\n",
       "      <th>rf_1000</th>\n",
       "    </tr>\n",
       "  </thead>\n",
       "  <tbody>\n",
       "    <tr>\n",
       "      <th>MAE</th>\n",
       "      <td>0.326648</td>\n",
       "      <td>0.325310</td>\n",
       "      <td>0.324930</td>\n",
       "      <td>0.324834</td>\n",
       "    </tr>\n",
       "    <tr>\n",
       "      <th>MSE</th>\n",
       "      <td>0.254972</td>\n",
       "      <td>0.252253</td>\n",
       "      <td>0.251868</td>\n",
       "      <td>0.251531</td>\n",
       "    </tr>\n",
       "    <tr>\n",
       "      <th>RMSE</th>\n",
       "      <td>0.504948</td>\n",
       "      <td>0.502248</td>\n",
       "      <td>0.501865</td>\n",
       "      <td>0.501529</td>\n",
       "    </tr>\n",
       "    <tr>\n",
       "      <th>R</th>\n",
       "      <td>0.805425</td>\n",
       "      <td>0.807500</td>\n",
       "      <td>0.807794</td>\n",
       "      <td>0.808051</td>\n",
       "    </tr>\n",
       "  </tbody>\n",
       "</table>\n",
       "</div>"
      ],
      "text/plain": [
       "        rf_100    rf_250    rf_500   rf_1000\n",
       "MAE   0.326648  0.325310  0.324930  0.324834\n",
       "MSE   0.254972  0.252253  0.251868  0.251531\n",
       "RMSE  0.504948  0.502248  0.501865  0.501529\n",
       "R     0.805425  0.807500  0.807794  0.808051"
      ]
     },
     "execution_count": 8,
     "metadata": {},
     "output_type": "execute_result"
    }
   ],
   "source": [
    "metrics"
   ]
  },
  {
   "cell_type": "code",
   "execution_count": 11,
   "id": "7621fff3",
   "metadata": {},
   "outputs": [
    {
     "data": {
      "text/plain": [
       "<AxesSubplot: >"
      ]
     },
     "execution_count": 11,
     "metadata": {},
     "output_type": "execute_result"
    },
    {
     "data": {
      "image/png": "[encoded data removed]",
      "text/plain": [
       "<Figure size 1500x500 with 1 Axes>"
      ]
     },
     "metadata": {},
     "output_type": "display_data"
    }
   ],
   "source": [
    "metrics.plot.bar(figsize=(15,5), rot=0)"
   ]
  },
  {
   "cell_type": "code",
   "execution_count": null,
   "id": "564ae120",
   "metadata": {},
   "outputs": [],
   "source": []
  }
 ],
 "metadata": {
  "kernelspec": {
   "display_name": "Python 3 (ipykernel)",
   "language": "python",
   "name": "python3"
  },
  "language_info": {
   "codemirror_mode": {
    "name": "ipython",
    "version": 3
   },
   "file_extension": ".py",
   "mimetype": "text/x-python",
   "name": "python",
   "nbconvert_exporter": "python",
   "pygments_lexer": "ipython3",
   "version": "3.10.8"
  }
 },
 "nbformat": 4,
 "nbformat_minor": 5
}
